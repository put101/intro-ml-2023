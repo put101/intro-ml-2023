{
 "cells": [
  {
   "cell_type": "code",
   "execution_count": null,
   "metadata": {},
   "outputs": [],
   "source": [
    "import numpy as np\n",
    "from scipy.io import loadmat\n",
    "from scipy.spatial.distance import cdist"
   ]
  },
  {
   "cell_type": "code",
   "execution_count": null,
   "metadata": {},
   "outputs": [],
   "source": [
    "# Method for getting dataset from file\n",
    "getData_LVQ = lambda: loadmat('lvqdata.mat')['lvqdata']"
   ]
  },
  {
   "cell_type": "code",
   "execution_count": null,
   "metadata": {},
   "outputs": [],
   "source": [
    "# given the assignment we know the actual labels\n",
    "# first 50 are class 1, other 50 are class 2\n",
    "actual_labels = np.array([1]*50 + [2]*50)\n",
    "print(np.shape(actual_labels))\n",
    "\n",
    "data = getData_LVQ()\n",
    "training_error = []\n",
    "print(np.shape(data))"
   ]
  },
  {
   "cell_type": "code",
   "execution_count": null,
   "metadata": {},
   "outputs": [],
   "source": [
    "def LVQ1(data:np.array, K:int, learning_rate:float, epochs:int,training_error:[]):\n",
    "    N = len(data[0]) # number of features, dimensionality of data\n",
    "    P = len(data) # number of data points\n",
    "\n",
    "    # Initialize each prototype by random selection of a data point from the corre-sponding class\n",
    "    random_indices = np.random.choice(P, K, replace=False)\n",
    "    prototypes = data[random_indices]\n",
    "\n",
    "    for t in range(epochs):\n",
    "        # random permutation is done on indexes instead of datapoints because its easier to handle\n",
    "        random_indexes = np.random.permutation(range(P)) # random permutation of indexes\n",
    "        move_out = 0\n",
    "        for p_idx in random_indexes:\n",
    "            x = data[p_idx]\n",
    "\n",
    "            # Find the closest prototype\n",
    "            distances = cdist(data[[p_idx]] , prototypes, 'euclidean')[0]\n",
    "            closest_prototype_index = np.argmin(distances)\n",
    "\n",
    "            # Update the closest prototype\n",
    "            if actual_labels[p_idx] == actual_labels[closest_prototype_index]:\n",
    "                prototypes[closest_prototype_index] = prototypes[closest_prototype_index] + learning_rate * (x - prototypes[closest_prototype_index])\n",
    "            else:\n",
    "                prototypes[closest_prototype_index] = prototypes[closest_prototype_index] - learning_rate * (x - prototypes[closest_prototype_index])\n",
    "                move_out += 1\n",
    "\n",
    "        #Reporting traning_error\n",
    "        training_error.append(move_out/len(random_indexes))\n",
    "\n",
    "\n",
    "    return (N, P, prototypes)\n"
   ]
  },
  {
   "cell_type": "code",
   "execution_count": null,
   "metadata": {},
   "outputs": [],
   "source": [
    "n_labels = len(np.unique(actual_labels))\n",
    "prototypes_per_class = 4\n",
    "K = n_labels * prototypes_per_class\n",
    "learning_rate = 0.05\n",
    "epochs = 100\n",
    "\n",
    "N,P,prototypes = LVQ1(data, K, learning_rate, epochs,training_error)\n",
    "\n",
    "print(prototypes)\n",
    "print(training_error)"
   ]
  }
 ],
 "metadata": {
  "kernelspec": {
   "display_name": "Python 3",
   "language": "python",
   "name": "python3"
  },
  "language_info": {
   "codemirror_mode": {
    "name": "ipython",
    "version": 3
   },
   "file_extension": ".py",
   "mimetype": "text/x-python",
   "name": "python",
   "nbconvert_exporter": "python",
   "pygments_lexer": "ipython3",
   "version": "3.11.5"
  }
 },
 "nbformat": 4,
 "nbformat_minor": 2
}
