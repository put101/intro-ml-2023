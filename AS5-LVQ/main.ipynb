{
 "cells": [
  {
   "cell_type": "code",
   "execution_count": 20,
   "metadata": {},
   "outputs": [],
   "source": [
    "import numpy as np\n",
    "from scipy.io import loadmat\n",
    "from sklearn.metrics import silhouette_score\n",
    "from scipy.spatial.distance import cdist\n",
    "from scipy.spatial.distance import pdist\n",
    "import matplotlib.pyplot as plt\n",
    "from math import sqrt\n",
    "import csv\n",
    "import pandas as pd\n"
   ]
  },
  {
   "cell_type": "code",
   "execution_count": 15,
   "metadata": {},
   "outputs": [],
   "source": [
    "# Method for getting dataset from file\n",
    "getData_LVQ = lambda: loadmat('lvqdata.mat')['lvqdata']"
   ]
  },
  {
   "cell_type": "code",
   "execution_count": 48,
   "metadata": {},
   "outputs": [
    {
     "name": "stdout",
     "output_type": "stream",
     "text": [
      "(100,)\n",
      "(100, 2)\n"
     ]
    }
   ],
   "source": [
    "# given the assignment we know the actual labels\n",
    "# first 50 are class 1, other 50 are class 2\n",
    "actual_labels = np.array([1]*50 + [2]*50)\n",
    "print(np.shape(actual_labels))\n",
    "\n",
    "\n",
    "data = getData_LVQ()\n",
    "print(np.shape(data))"
   ]
  },
  {
   "cell_type": "code",
   "execution_count": 90,
   "metadata": {},
   "outputs": [],
   "source": [
    "def LVQ1(data:np.array, K:int, learning_rate:float, epochs:int):\n",
    "    N = len(data[0]) # number of features, dimensionality of data\n",
    "    P = len(data) # number of data points\n",
    "\n",
    "    # Initialize each prototype by random selection of a data point from the corre-sponding class\n",
    "    random_indices = np.random.choice(P, K, replace=False)\n",
    "    prototypes = data[random_indices]\n",
    "\n",
    "    for t in range(epochs):\n",
    "        # random permutation is done on indexes instead of datapoints because its easier to handle\n",
    "        random_indexes = np.random.permutation(range(P)) # random permutation of indexes\n",
    "\n",
    "        for p_idx in random_indexes:\n",
    "            x = data[p_idx]\n",
    "\n",
    "            # Find the closest prototype\n",
    "            distances = cdist(data[[p_idx]] , prototypes, 'euclidean')[0]\n",
    "            closest_prototype_index = np.argmin(distances)\n",
    "\n",
    "            # Update the closest prototype\n",
    "            if actual_labels[p_idx] == actual_labels[closest_prototype_index]:\n",
    "                prototypes[closest_prototype_index] = prototypes[closest_prototype_index] + learning_rate * (x - prototypes[closest_prototype_index])\n",
    "            else:\n",
    "                prototypes[closest_prototype_index] = prototypes[closest_prototype_index] - learning_rate * (x - prototypes[closest_prototype_index])\n",
    "\n",
    "    return (N, P, prototypes)"
   ]
  },
  {
   "cell_type": "code",
   "execution_count": 103,
   "metadata": {},
   "outputs": [],
   "source": [
    "n_labels = len(np.unique(actual_labels))\n",
    "prototypes_per_class = 4\n",
    "K = n_labels * prototypes_per_class\n",
    "learning_rate = 0.05\n",
    "epochs = 100\n",
    "\n",
    "N,P,prototypes = LVQ1(data, K, learning_rate, epochs)\n"
   ]
  },
  {
   "cell_type": "code",
   "execution_count": 104,
   "metadata": {},
   "outputs": [
    {
     "data": {
      "text/plain": [
       "array([[-7.59824155, -0.35225718],\n",
       "       [-7.33836205, -0.54089568],\n",
       "       [-2.84495856,  8.07073632],\n",
       "       [-5.18908356,  0.5374583 ],\n",
       "       [-7.28252622, -0.49341984],\n",
       "       [-7.54575937,  0.08627674],\n",
       "       [-3.23886449,  7.66830591],\n",
       "       [-7.2462513 , -0.4191489 ]])"
      ]
     },
     "execution_count": 104,
     "metadata": {},
     "output_type": "execute_result"
    }
   ],
   "source": [
    "prototypes"
   ]
  },
  {
   "cell_type": "code",
   "execution_count": null,
   "metadata": {},
   "outputs": [],
   "source": []
  },
  {
   "cell_type": "code",
   "execution_count": null,
   "metadata": {},
   "outputs": [],
   "source": []
  }
 ],
 "metadata": {
  "kernelspec": {
   "display_name": "Python 3",
   "language": "python",
   "name": "python3"
  },
  "language_info": {
   "codemirror_mode": {
    "name": "ipython",
    "version": 3
   },
   "file_extension": ".py",
   "mimetype": "text/x-python",
   "name": "python",
   "nbconvert_exporter": "python",
   "pygments_lexer": "ipython3",
   "version": "3.11.5"
  },
  "orig_nbformat": 4
 },
 "nbformat": 4,
 "nbformat_minor": 2
}
