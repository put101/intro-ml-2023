{
 "cells": [
  {
   "cell_type": "code",
   "execution_count": 1,
   "metadata": {},
   "outputs": [],
   "source": [
    "import numpy as np\n",
    "from scipy.io import loadmat\n",
    "from scipy.spatial.distance import cdist\n"
   ]
  },
  {
   "cell_type": "code",
   "execution_count": 2,
   "metadata": {},
   "outputs": [],
   "source": [
    "# Method for getting dataset from file\n",
    "getData_LVQ = lambda: loadmat('lvqdata.mat')['lvqdata']"
   ]
  },
  {
   "cell_type": "code",
   "execution_count": 8,
   "metadata": {},
   "outputs": [
    {
     "name": "stdout",
     "output_type": "stream",
     "text": [
      "(100,)\n",
      "(100, 2)\n"
     ]
    }
   ],
   "source": [
    "# given the assignment we know the actual labels\n",
    "# first 50 are class 1, other 50 are class 2\n",
    "actual_labels = np.array([1]*50 + [2]*50)\n",
    "print(np.shape(actual_labels))\n",
    "\n",
    "data = getData_LVQ()\n",
    "\n",
    "print(np.shape(data))"
   ]
  },
  {
   "cell_type": "code",
   "execution_count": 36,
   "metadata": {},
   "outputs": [],
   "source": [
    "def LVQ1(data:np.array, data_labels:np.array, K:int, learning_rate:float, epochs:int):\n",
    "    N = len(data[0]) # number of features, dimensionality of data\n",
    "    P = len(data) # number of data points\n",
    "\n",
    "    # initialize each prototype by random selection of a data point from the corre-sponding class\n",
    "    # make sure one prototype is from each class\n",
    "    random_indices = []\n",
    "    while len(np.unique(data_labels[random_indices])) != len(np.unique(data_labels)):\n",
    "        random_indices = np.random.choice(P, K, replace=False)\n",
    "\n",
    "    prototypes = data[random_indices]\n",
    "    prototypes_labels = data_labels[random_indices]\n",
    "    training_error = []\n",
    "\n",
    "    for t in range(epochs):\n",
    "        # random permutation is done on indexes instead of datapoints because its easier to handle\n",
    "        random_indexes = np.random.permutation(range(P)) # random permutation of indexes\n",
    "        n_missclassifications = 0\n",
    "        for p_idx in random_indexes:\n",
    "            x = data[p_idx]\n",
    "            # find the closest prototype (winner)\n",
    "            distances = cdist(data[[p_idx]] , prototypes, 'euclidean')[0]\n",
    "            closest_prototype_index = np.argmin(distances)\n",
    "            # update the winner according to winner-takes-all\n",
    "            if data_labels[p_idx] == prototypes_labels[closest_prototype_index]:\n",
    "                prototypes[closest_prototype_index] = prototypes[closest_prototype_index] + learning_rate * (x - prototypes[closest_prototype_index])\n",
    "            else:\n",
    "                prototypes[closest_prototype_index] = prototypes[closest_prototype_index] - learning_rate * (x - prototypes[closest_prototype_index])\n",
    "                n_missclassifications = n_missclassifications + 1\n",
    "\n",
    "        # training error over epochs\n",
    "        training_error.append(n_missclassifications/len(data))\n",
    "\n",
    "    return (N, P, prototypes, training_error)\n"
   ]
  },
  {
   "cell_type": "code",
   "execution_count": 39,
   "metadata": {},
   "outputs": [
    {
     "name": "stdout",
     "output_type": "stream",
     "text": [
      "[[0.82762397 0.46962788]\n",
      " [0.20162512 0.40369738]]\n",
      "[0.32, 0.31, 0.3, 0.29, 0.3, 0.31, 0.31, 0.31, 0.3, 0.29, 0.29, 0.27, 0.27, 0.27, 0.27, 0.25, 0.24, 0.24, 0.25, 0.25, 0.25, 0.25, 0.25, 0.26, 0.26, 0.26, 0.24, 0.23, 0.23, 0.22, 0.22, 0.22, 0.22, 0.22, 0.22, 0.21, 0.21, 0.21, 0.21, 0.21, 0.22, 0.21, 0.21, 0.22, 0.2, 0.21, 0.21, 0.22, 0.22, 0.21, 0.21, 0.22, 0.21, 0.22, 0.22, 0.22, 0.22, 0.22, 0.22, 0.22, 0.22, 0.22, 0.22, 0.22, 0.22, 0.22, 0.22, 0.22, 0.22, 0.22, 0.22, 0.22, 0.22, 0.21, 0.21, 0.21, 0.22, 0.2, 0.2, 0.22, 0.21, 0.21, 0.21, 0.2, 0.2, 0.22, 0.21, 0.22, 0.21, 0.22, 0.23, 0.2, 0.2, 0.21, 0.2, 0.2, 0.2, 0.2, 0.22, 0.21, 0.21, 0.2, 0.22, 0.22, 0.2, 0.2, 0.22, 0.2, 0.22, 0.2, 0.21, 0.2, 0.21, 0.21, 0.2, 0.21, 0.21, 0.2, 0.21, 0.2, 0.22, 0.21, 0.21, 0.2, 0.21, 0.2, 0.2, 0.2, 0.21, 0.2, 0.22, 0.21, 0.23, 0.21, 0.2, 0.21, 0.2, 0.21, 0.2, 0.21, 0.21, 0.22, 0.2, 0.21, 0.21, 0.22, 0.2, 0.22, 0.21, 0.21, 0.2, 0.21, 0.22, 0.2, 0.2, 0.21, 0.21, 0.21, 0.21, 0.2, 0.21, 0.22, 0.22, 0.21, 0.21, 0.2, 0.2, 0.21, 0.22, 0.21, 0.22, 0.2, 0.22, 0.21, 0.2, 0.2, 0.21, 0.21, 0.2, 0.21, 0.2, 0.2, 0.21, 0.22, 0.21, 0.21, 0.2, 0.21, 0.21, 0.2, 0.2, 0.2, 0.22, 0.21, 0.2, 0.21, 0.2, 0.21, 0.21, 0.2]\n"
     ]
    },
    {
     "ename": "KeyboardInterrupt",
     "evalue": "",
     "output_type": "error",
     "traceback": [
      "\u001b[0;31m---------------------------------------------------------------------------\u001b[0m",
      "\u001b[0;31mKeyboardInterrupt\u001b[0m                         Traceback (most recent call last)",
      "\u001b[1;32m/Users/tobiaspucher/GitHub/intro-ml-2023/AS5-LVQ/main.ipynb Cell 5\u001b[0m line \u001b[0;36m1\n\u001b[1;32m     <a href='vscode-notebook-cell:/Users/tobiaspucher/GitHub/intro-ml-2023/AS5-LVQ/main.ipynb#X16sZmlsZQ%3D%3D?line=14'>15</a>\u001b[0m learning_rate \u001b[39m=\u001b[39m  \u001b[39m0.002\u001b[39m\n\u001b[1;32m     <a href='vscode-notebook-cell:/Users/tobiaspucher/GitHub/intro-ml-2023/AS5-LVQ/main.ipynb#X16sZmlsZQ%3D%3D?line=15'>16</a>\u001b[0m epochs \u001b[39m=\u001b[39m \u001b[39m200\u001b[39m\n\u001b[0;32m---> <a href='vscode-notebook-cell:/Users/tobiaspucher/GitHub/intro-ml-2023/AS5-LVQ/main.ipynb#X16sZmlsZQ%3D%3D?line=16'>17</a>\u001b[0m N,P,prototypes, training_error \u001b[39m=\u001b[39m LVQ1(data, actual_labels, K, learning_rate, epochs)\n\u001b[1;32m     <a href='vscode-notebook-cell:/Users/tobiaspucher/GitHub/intro-ml-2023/AS5-LVQ/main.ipynb#X16sZmlsZQ%3D%3D?line=17'>18</a>\u001b[0m \u001b[39mprint\u001b[39m(prototypes)\n\u001b[1;32m     <a href='vscode-notebook-cell:/Users/tobiaspucher/GitHub/intro-ml-2023/AS5-LVQ/main.ipynb#X16sZmlsZQ%3D%3D?line=18'>19</a>\u001b[0m \u001b[39mprint\u001b[39m(training_error)\n",
      "\u001b[1;32m/Users/tobiaspucher/GitHub/intro-ml-2023/AS5-LVQ/main.ipynb Cell 5\u001b[0m line \u001b[0;36m9\n\u001b[1;32m      <a href='vscode-notebook-cell:/Users/tobiaspucher/GitHub/intro-ml-2023/AS5-LVQ/main.ipynb#X16sZmlsZQ%3D%3D?line=6'>7</a>\u001b[0m random_indices \u001b[39m=\u001b[39m []\n\u001b[1;32m      <a href='vscode-notebook-cell:/Users/tobiaspucher/GitHub/intro-ml-2023/AS5-LVQ/main.ipynb#X16sZmlsZQ%3D%3D?line=7'>8</a>\u001b[0m \u001b[39mwhile\u001b[39;00m \u001b[39mlen\u001b[39m(np\u001b[39m.\u001b[39munique(data_labels[random_indices])) \u001b[39m!=\u001b[39m K:\n\u001b[0;32m----> <a href='vscode-notebook-cell:/Users/tobiaspucher/GitHub/intro-ml-2023/AS5-LVQ/main.ipynb#X16sZmlsZQ%3D%3D?line=8'>9</a>\u001b[0m     random_indices \u001b[39m=\u001b[39m np\u001b[39m.\u001b[39;49mrandom\u001b[39m.\u001b[39;49mchoice(P, K, replace\u001b[39m=\u001b[39;49m\u001b[39mFalse\u001b[39;49;00m)\n\u001b[1;32m     <a href='vscode-notebook-cell:/Users/tobiaspucher/GitHub/intro-ml-2023/AS5-LVQ/main.ipynb#X16sZmlsZQ%3D%3D?line=10'>11</a>\u001b[0m prototypes \u001b[39m=\u001b[39m data[random_indices]\n\u001b[1;32m     <a href='vscode-notebook-cell:/Users/tobiaspucher/GitHub/intro-ml-2023/AS5-LVQ/main.ipynb#X16sZmlsZQ%3D%3D?line=11'>12</a>\u001b[0m prototypes_labels \u001b[39m=\u001b[39m data_labels[random_indices]\n",
      "File \u001b[0;32mmtrand.pyx:965\u001b[0m, in \u001b[0;36mnumpy.random.mtrand.RandomState.choice\u001b[0;34m()\u001b[0m\n",
      "File \u001b[0;32m<__array_function__ internals>:200\u001b[0m, in \u001b[0;36mprod\u001b[0;34m(*args, **kwargs)\u001b[0m\n",
      "File \u001b[0;32m/opt/homebrew/lib/python3.11/site-packages/numpy/core/fromnumeric.py:3076\u001b[0m, in \u001b[0;36mprod\u001b[0;34m(a, axis, dtype, out, keepdims, initial, where)\u001b[0m\n\u001b[1;32m   2955\u001b[0m \u001b[39m@array_function_dispatch\u001b[39m(_prod_dispatcher)\n\u001b[1;32m   2956\u001b[0m \u001b[39mdef\u001b[39;00m \u001b[39mprod\u001b[39m(a, axis\u001b[39m=\u001b[39m\u001b[39mNone\u001b[39;00m, dtype\u001b[39m=\u001b[39m\u001b[39mNone\u001b[39;00m, out\u001b[39m=\u001b[39m\u001b[39mNone\u001b[39;00m, keepdims\u001b[39m=\u001b[39mnp\u001b[39m.\u001b[39m_NoValue,\n\u001b[1;32m   2957\u001b[0m          initial\u001b[39m=\u001b[39mnp\u001b[39m.\u001b[39m_NoValue, where\u001b[39m=\u001b[39mnp\u001b[39m.\u001b[39m_NoValue):\n\u001b[1;32m   2958\u001b[0m \u001b[39m    \u001b[39m\u001b[39m\"\"\"\u001b[39;00m\n\u001b[1;32m   2959\u001b[0m \u001b[39m    Return the product of array elements over a given axis.\u001b[39;00m\n\u001b[1;32m   2960\u001b[0m \n\u001b[0;32m   (...)\u001b[0m\n\u001b[1;32m   3074\u001b[0m \u001b[39m    10\u001b[39;00m\n\u001b[1;32m   3075\u001b[0m \u001b[39m    \"\"\"\u001b[39;00m\n\u001b[0;32m-> 3076\u001b[0m     \u001b[39mreturn\u001b[39;00m _wrapreduction(a, np\u001b[39m.\u001b[39;49mmultiply, \u001b[39m'\u001b[39;49m\u001b[39mprod\u001b[39;49m\u001b[39m'\u001b[39;49m, axis, dtype, out,\n\u001b[1;32m   3077\u001b[0m                           keepdims\u001b[39m=\u001b[39;49mkeepdims, initial\u001b[39m=\u001b[39;49minitial, where\u001b[39m=\u001b[39;49mwhere)\n",
      "File \u001b[0;32m/opt/homebrew/lib/python3.11/site-packages/numpy/core/fromnumeric.py:86\u001b[0m, in \u001b[0;36m_wrapreduction\u001b[0;34m(obj, ufunc, method, axis, dtype, out, **kwargs)\u001b[0m\n\u001b[1;32m     83\u001b[0m         \u001b[39melse\u001b[39;00m:\n\u001b[1;32m     84\u001b[0m             \u001b[39mreturn\u001b[39;00m reduction(axis\u001b[39m=\u001b[39maxis, out\u001b[39m=\u001b[39mout, \u001b[39m*\u001b[39m\u001b[39m*\u001b[39mpasskwargs)\n\u001b[0;32m---> 86\u001b[0m \u001b[39mreturn\u001b[39;00m ufunc\u001b[39m.\u001b[39;49mreduce(obj, axis, dtype, out, \u001b[39m*\u001b[39;49m\u001b[39m*\u001b[39;49mpasskwargs)\n",
      "\u001b[0;31mKeyboardInterrupt\u001b[0m: "
     ]
    }
   ],
   "source": [
    "\n",
    "# results 5.2\n",
    "# a) one prototype per class\n",
    "n_labels = len(np.unique(actual_labels))\n",
    "prototypes_per_class = 1\n",
    "K = n_labels * prototypes_per_class\n",
    "learning_rate =  0.002\n",
    "epochs = 200\n",
    "N,P,prototypes, training_error = LVQ1(data, actual_labels, K, learning_rate, epochs)\n",
    "print(prototypes)\n",
    "print(training_error)\n",
    "\n",
    "# b) two prototypes per class\n",
    "prototypes_per_class = 2\n",
    "K = n_labels * prototypes_per_class\n",
    "learning_rate =  0.002\n",
    "epochs = 200\n",
    "N,P,prototypes, training_error = LVQ1(data, actual_labels, K, learning_rate, epochs)\n",
    "print(prototypes)\n",
    "print(training_error)\n"
   ]
  },
  {
   "cell_type": "code",
   "execution_count": null,
   "metadata": {},
   "outputs": [],
   "source": []
  }
 ],
 "metadata": {
  "kernelspec": {
   "display_name": "Python 3",
   "language": "python",
   "name": "python3"
  },
  "language_info": {
   "codemirror_mode": {
    "name": "ipython",
    "version": 3
   },
   "file_extension": ".py",
   "mimetype": "text/x-python",
   "name": "python",
   "nbconvert_exporter": "python",
   "pygments_lexer": "ipython3",
   "version": "3.11.5"
  }
 },
 "nbformat": 4,
 "nbformat_minor": 2
}
