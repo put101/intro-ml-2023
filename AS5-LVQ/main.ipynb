{
 "cells": [
  {
   "cell_type": "code",
   "execution_count": 1,
   "metadata": {},
   "outputs": [],
   "source": [
    "import numpy as np\n",
    "from scipy.io import loadmat\n",
    "from scipy.spatial.distance import cdist\n"
   ]
  },
  {
   "cell_type": "code",
   "execution_count": 2,
   "metadata": {},
   "outputs": [],
   "source": [
    "# Method for getting dataset from file\n",
    "getData_LVQ = lambda: loadmat('lvqdata.mat')['lvqdata']"
   ]
  },
  {
   "cell_type": "code",
   "execution_count": 8,
   "metadata": {},
   "outputs": [
    {
     "name": "stdout",
     "output_type": "stream",
     "text": [
      "(100,)\n",
      "(100, 2)\n"
     ]
    }
   ],
   "source": [
    "# given the assignment we know the actual labels\n",
    "# first 50 are class 1, other 50 are class 2\n",
    "actual_labels = np.array([1]*50 + [2]*50)\n",
    "print(np.shape(actual_labels))\n",
    "\n",
    "data = getData_LVQ()\n",
    "\n",
    "print(np.shape(data))"
   ]
  },
  {
   "cell_type": "code",
   "execution_count": 30,
   "metadata": {},
   "outputs": [],
   "source": [
    "def LVQ1(data:np.array, data_labels:np.array, K:int, learning_rate:float, epochs:int):\n",
    "    N = len(data[0]) # number of features, dimensionality of data\n",
    "    P = len(data) # number of data points\n",
    "\n",
    "    # initialize each prototype by random selection of a data point from the corre-sponding class\n",
    "    # make sure one prototype is from each class\n",
    "    random_indices = np.random.choice(P, K, replace=False)\n",
    "    while len(np.unique(data_labels[random_indices])) != K:\n",
    "        random_indices = np.random.choice(P, K, replace=False)\n",
    "\n",
    "    prototypes = data[random_indices]\n",
    "    prototypes_labels = data_labels[random_indices]\n",
    "    training_error = []\n",
    "\n",
    "    for t in range(epochs):\n",
    "        # random permutation is done on indexes instead of datapoints because its easier to handle\n",
    "        random_indexes = np.random.permutation(range(P)) # random permutation of indexes\n",
    "        n_missclassifications = 0\n",
    "        for p_idx in random_indexes:\n",
    "            x = data[p_idx]\n",
    "            print(p_idx, x)\n",
    "            # find the closest prototype (winner)\n",
    "            distances = cdist(data[[p_idx]] , prototypes, 'euclidean')[0]\n",
    "            closest_prototype_index = np.argmin(distances)\n",
    "            print(closest_prototype_index)\n",
    "            # update the winner according to winner-takes-all\n",
    "            if data_labels[p_idx] == prototypes_labels[closest_prototype_index]:\n",
    "                prototypes[closest_prototype_index] = prototypes[closest_prototype_index] + learning_rate * (x - prototypes[closest_prototype_index])\n",
    "            else:\n",
    "                prototypes[closest_prototype_index] = prototypes[closest_prototype_index] - learning_rate * (x - prototypes[closest_prototype_index])\n",
    "                n_missclassifications = n_missclassifications + 1\n",
    "\n",
    "        # training error over epochs\n",
    "        training_error.append(n_missclassifications/len(data))\n",
    "\n",
    "    return (N, P, prototypes, training_error)\n"
   ]
  },
  {
   "cell_type": "code",
   "execution_count": 31,
   "metadata": {},
   "outputs": [
    {
     "ename": "UnboundLocalError",
     "evalue": "cannot access local variable 'random_indices' where it is not associated with a value",
     "output_type": "error",
     "traceback": [
      "\u001b[0;31m---------------------------------------------------------------------------\u001b[0m",
      "\u001b[0;31mUnboundLocalError\u001b[0m                         Traceback (most recent call last)",
      "\u001b[1;32m/Users/tobiaspucher/GitHub/intro-ml-2023/AS5-LVQ/main.ipynb Cell 5\u001b[0m line \u001b[0;36m7\n\u001b[1;32m      <a href='vscode-notebook-cell:/Users/tobiaspucher/GitHub/intro-ml-2023/AS5-LVQ/main.ipynb#X15sZmlsZQ%3D%3D?line=3'>4</a>\u001b[0m learning_rate \u001b[39m=\u001b[39m  \u001b[39m0.002\u001b[39m\n\u001b[1;32m      <a href='vscode-notebook-cell:/Users/tobiaspucher/GitHub/intro-ml-2023/AS5-LVQ/main.ipynb#X15sZmlsZQ%3D%3D?line=4'>5</a>\u001b[0m epochs \u001b[39m=\u001b[39m \u001b[39m100\u001b[39m\n\u001b[0;32m----> <a href='vscode-notebook-cell:/Users/tobiaspucher/GitHub/intro-ml-2023/AS5-LVQ/main.ipynb#X15sZmlsZQ%3D%3D?line=6'>7</a>\u001b[0m N,P,prototypes, training_error \u001b[39m=\u001b[39m LVQ1(data, actual_labels, K, learning_rate, epochs)\n\u001b[1;32m      <a href='vscode-notebook-cell:/Users/tobiaspucher/GitHub/intro-ml-2023/AS5-LVQ/main.ipynb#X15sZmlsZQ%3D%3D?line=8'>9</a>\u001b[0m \u001b[39mprint\u001b[39m(prototypes)\n\u001b[1;32m     <a href='vscode-notebook-cell:/Users/tobiaspucher/GitHub/intro-ml-2023/AS5-LVQ/main.ipynb#X15sZmlsZQ%3D%3D?line=9'>10</a>\u001b[0m \u001b[39mprint\u001b[39m(training_error)\n",
      "\u001b[1;32m/Users/tobiaspucher/GitHub/intro-ml-2023/AS5-LVQ/main.ipynb Cell 5\u001b[0m line \u001b[0;36m7\n\u001b[1;32m      <a href='vscode-notebook-cell:/Users/tobiaspucher/GitHub/intro-ml-2023/AS5-LVQ/main.ipynb#X15sZmlsZQ%3D%3D?line=2'>3</a>\u001b[0m P \u001b[39m=\u001b[39m \u001b[39mlen\u001b[39m(data) \u001b[39m# number of data points\u001b[39;00m\n\u001b[1;32m      <a href='vscode-notebook-cell:/Users/tobiaspucher/GitHub/intro-ml-2023/AS5-LVQ/main.ipynb#X15sZmlsZQ%3D%3D?line=4'>5</a>\u001b[0m \u001b[39m# initialize each prototype by random selection of a data point from the corre-sponding class\u001b[39;00m\n\u001b[1;32m      <a href='vscode-notebook-cell:/Users/tobiaspucher/GitHub/intro-ml-2023/AS5-LVQ/main.ipynb#X15sZmlsZQ%3D%3D?line=5'>6</a>\u001b[0m \u001b[39m# make sure one prototype is from each class\u001b[39;00m\n\u001b[0;32m----> <a href='vscode-notebook-cell:/Users/tobiaspucher/GitHub/intro-ml-2023/AS5-LVQ/main.ipynb#X15sZmlsZQ%3D%3D?line=6'>7</a>\u001b[0m \u001b[39mwhile\u001b[39;00m \u001b[39mlen\u001b[39m(np\u001b[39m.\u001b[39munique(data_labels[random_indices])) \u001b[39m!=\u001b[39m K:\n\u001b[1;32m      <a href='vscode-notebook-cell:/Users/tobiaspucher/GitHub/intro-ml-2023/AS5-LVQ/main.ipynb#X15sZmlsZQ%3D%3D?line=7'>8</a>\u001b[0m     random_indices \u001b[39m=\u001b[39m np\u001b[39m.\u001b[39mrandom\u001b[39m.\u001b[39mchoice(P, K, replace\u001b[39m=\u001b[39m\u001b[39mFalse\u001b[39;00m)\n\u001b[1;32m     <a href='vscode-notebook-cell:/Users/tobiaspucher/GitHub/intro-ml-2023/AS5-LVQ/main.ipynb#X15sZmlsZQ%3D%3D?line=9'>10</a>\u001b[0m prototypes \u001b[39m=\u001b[39m data[random_indices]\n",
      "\u001b[0;31mUnboundLocalError\u001b[0m: cannot access local variable 'random_indices' where it is not associated with a value"
     ]
    }
   ],
   "source": [
    "n_labels = len(np.unique(actual_labels))\n",
    "prototypes_per_class = 1\n",
    "K = n_labels * prototypes_per_class\n",
    "learning_rate =  0.002\n",
    "epochs = 100\n",
    "\n",
    "N,P,prototypes, training_error = LVQ1(data, actual_labels, K, learning_rate, epochs)\n",
    "\n",
    "print(prototypes)\n",
    "print(training_error)"
   ]
  },
  {
   "cell_type": "code",
   "execution_count": null,
   "metadata": {},
   "outputs": [],
   "source": []
  }
 ],
 "metadata": {
  "kernelspec": {
   "display_name": "Python 3",
   "language": "python",
   "name": "python3"
  },
  "language_info": {
   "codemirror_mode": {
    "name": "ipython",
    "version": 3
   },
   "file_extension": ".py",
   "mimetype": "text/x-python",
   "name": "python",
   "nbconvert_exporter": "python",
   "pygments_lexer": "ipython3",
   "version": "3.11.5"
  }
 },
 "nbformat": 4,
 "nbformat_minor": 2
}
