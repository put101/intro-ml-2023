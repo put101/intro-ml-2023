{
  "cells": [
    {
      "cell_type": "code",
      "execution_count": null,
      "metadata": {
        "id": "0VMkxWccTpaS"
      },
      "outputs": [],
      "source": [
        "from google.colab import drive\n",
        "import numpy as np\n",
        "import pandas as pd\n",
        "from scipy.io import loadmat"
      ]
    },
    {
      "cell_type": "code",
      "execution_count": null,
      "metadata": {
        "id": "U1q1fN2SP7U3",
        "colab": {
          "base_uri": "https://localhost:8080/"
        },
        "outputId": "9c9063c9-272b-4132-b4e3-11c0956d28f2"
      },
      "outputs": [
        {
          "output_type": "stream",
          "name": "stdout",
          "text": [
            "Drive already mounted at /content/drive; to attempt to forcibly remount, call drive.mount(\"/content/drive\", force_remount=True).\n"
          ]
        }
      ],
      "source": [
        "#import file\n",
        "drive.mount('/content/drive') # uncomment when run locally"
      ]
    },
    {
      "cell_type": "code",
      "execution_count": null,
      "metadata": {
        "id": "5WdW5kP-UY3H"
      },
      "outputs": [],
      "source": [
        "mat = loadmat(\"/content/drive/My Drive/RUG/COIL20.mat\") #change to local path when not using google colab"
      ]
    },
    {
      "cell_type": "code",
      "execution_count": null,
      "metadata": {
        "id": "ScijMlz0Wltk",
        "colab": {
          "base_uri": "https://localhost:8080/",
          "height": 430
        },
        "outputId": "fe99644b-b0a8-4a96-8683-c3439046e1cf"
      },
      "outputs": [
        {
          "output_type": "display_data",
          "data": {
            "text/plain": [
              "<Figure size 640x480 with 1 Axes>"
            ],
            "image/png": "[encoded data removed]"
          },
          "metadata": {}
        }
      ],
      "source": [
        "#display image\n",
        "from matplotlib import pyplot as plt\n",
        "plt.imshow(image_matrix, interpolation='nearest')\n",
        "plt.show()"
      ]
    },
    {
      "cell_type": "code",
      "execution_count": null,
      "metadata": {
        "id": "r-W9ncYbvZsV"
      },
      "outputs": [],
      "source": [
        "import logging\n",
        "l = logging.getLogger()\n",
        "l.setLevel(logging.ERROR)"
      ]
    },
    {
      "cell_type": "code",
      "execution_count": null,
      "metadata": {
        "id": "OM_72PWqV_EV"
      },
      "outputs": [],
      "source": [
        "# X...data array[array]\n",
        "# d...dimensionality of the projection\n",
        "# return tuple (reduced data, fraction of total variance) or None\n",
        "def PCA(X, d):\n",
        "  # 1) centralize the data set Z = X − μ (μ is computed as the mean of all samples)\n",
        "  mu = X.mean(axis=0)\n",
        "  Z = X - mu\n",
        "  n = len(Z[0])\n",
        "\n",
        "  l.info(f\"# measurements: {len(Z)}\")\n",
        "  l.info(f\"# variables: n={n}\")\n",
        "\n",
        "  if d >= n:\n",
        "    l.error(f\"invalid parameter: cannot reduce from {n} to {d}\")\n",
        "    return None\n",
        "\n",
        "  # 2) compute principal components U and eigen-values D using np.linalg.eig\n",
        "  # principal component = eigen-vector of cov-matrix\n",
        "  covariance_matrix = np.cov(Z, rowvar=False)\n",
        "\n",
        "  # solve for all components U and their importance (eig-values)\n",
        "  eigenvalues, eigenvectors = np.linalg.eig(covariance_matrix)\n",
        "\n",
        "  # 3) pick the first d principal components\n",
        "  l.info(f\"picking the first {d} principal components of {n} total\")\n",
        "\n",
        "  # create a list of tuples and sort descending by eigenvalues\n",
        "\n",
        "  tuples = sorted( (\n",
        "      (eigenvalues[i], eigenvectors[i]) for i in range(len(eigenvalues))\n",
        "      ), key= lambda x: x[0], reverse=True );\n",
        "\n",
        "  l.info(f\"Principal components preview:\")\n",
        "  l.info(f\"(lambda0, u0): {tuples[0]}\")\n",
        "  l.info(f\"(lambda1, u1): {tuples[1]}\")\n",
        "\n",
        "  variance_contributions = [tup[0] for tup in tuples]\n",
        "  U = np.transpose([tup[1] for tup in tuples]) # columns contain eigen-vectors\n",
        "  U_d = U[:d]\n",
        "\n",
        "  # information loss (fraction of total variance)\n",
        "  p_d = np.sum(variance_contributions[:d]) / np.sum(variance_contributions)\n",
        "\n",
        "  # 4) reduce the dimensionality of the data Z_d = U_d^T Z\n",
        "  # project dataset into reduced space f(x) = U^T * x\n",
        "\n",
        "  l.debug(f\"len(U)={len(U_d)}\")\n",
        "  l.debug(f\"len(U[0])={len(U_d[0])}\")\n",
        "  l.debug(f\"len(Z)={len(Z)}\")\n",
        "  l.debug(f\"len(Z[0])={len(Z[0])}\")\n",
        "\n",
        "  # m ... # measurements\n",
        "  # project every point: [m x n] dot [n x d] = [m x d] dataset\n",
        "  Z_d = np.dot(Z, np.transpose(U_d))\n",
        "\n",
        "  return (Z_d, p_d)\n"
      ]
    },
    {
      "cell_type": "code",
      "execution_count": null,
      "metadata": {
        "id": "iYOxfuLXaP_N"
      },
      "outputs": [],
      "source": [
        "res = PCA(mat['X'], 100)"
      ]
    },
    {
      "cell_type": "code",
      "execution_count": null,
      "metadata": {
        "id": "HHAY33DvX7AG"
      },
      "outputs": [],
      "source": [
        "f\"p_d = {res[1]}\""
      ]
    },
    {
      "cell_type": "code",
      "execution_count": null,
      "metadata": {
        "id": "0n3V08W6laZ4"
      },
      "outputs": [],
      "source": [
        "import matplotlib.pyplot as plt\n",
        "\n",
        "reduced_data = res[0]\n",
        "\n",
        "fig = plt.figure(figsize=(10, 8))\n",
        "ax = fig.add_subplot(111, projection='3d')\n",
        "\n",
        "# scatter plot with three components\n",
        "ax.scatter(reduced_data[:, 0], reduced_data[:, 1], reduced_data[:, 2], c='b', marker='o', label='Data Points')\n",
        "\n",
        "# Add labels and title\n",
        "ax.set_xlabel('Principal Component 1')\n",
        "ax.set_ylabel('Principal Component 2')\n",
        "ax.set_zlabel('Principal Component 3')\n",
        "plt.title('PCA Visualization (3 Components)')\n",
        "\n",
        "# Add a legend if needed\n",
        "ax.legend(loc='best')\n",
        "\n",
        "# Show the 3D plot\n",
        "plt.show()"
      ]
    },
    {
      "cell_type": "code",
      "execution_count": null,
      "metadata": {
        "id": "hn4GM-l0EgCM"
      },
      "outputs": [],
      "source": [
        "# EXCPERIMENTS SECTION\n",
        "\n",
        "# X...data array[array]\n",
        "# alpha... target information retention (0 < a < 1)\n",
        "# return tuple (reduced data, fraction of total variance) or None\n",
        "def PCA_threshold(X, alpha):\n",
        "  # 1) centralize the data set Z = X − μ (μ is computed as the mean of all samples)\n",
        "\n",
        "  mu = X.mean(axis=0)\n",
        "  Z = ( X - mu )\n",
        "\n",
        "\n",
        "  n = len(Z[0])\n",
        "  l.info(f\"# measurements: {len(Z)}\")\n",
        "  l.info(f\"# variables: n={n}\")\n",
        "\n",
        "  if not (0 < alpha and alpha < 1 ):\n",
        "    l.error(\"invalid threshold\")\n",
        "    return None\n",
        "\n",
        "  # 2) compute principal components U and eigen-values D using np.linalg.eig\n",
        "  # principal component = eigen-vector of cov-matrix\n",
        "  covariance_matrix = np.cov(Z, rowvar=False)\n",
        "\n",
        "  # solve for all components U and their importance (eig-values)\n",
        "  eigenvalues, eigenvectors = np.linalg.eig(covariance_matrix)\n",
        "\n",
        "  # 3) pick the first d principal components\n",
        "\n",
        "  # create a list of tuples and sort descending by eigenvalues\n",
        "\n",
        "  tuples = sorted( (\n",
        "      (eigenvalues[i], eigenvectors[i]) for i in range(len(eigenvalues))\n",
        "      ), key= lambda x: x[0], reverse=True );\n",
        "\n",
        "  l.info(f\"Principal components preview:\")\n",
        "  l.info(f\"(lambda0, u0): {tuples[0]}\")\n",
        "  l.info(f\"(lambda1, u1): {tuples[1]}\")\n",
        "\n",
        "  variance_contributions = [tup[0] for tup in tuples]\n",
        "  U = np.transpose([tup[1] for tup in tuples]) # columns contain eigen-vectors\n",
        "\n",
        "  # calculate number of reduced dimensions based on targeted fraction of total variance\n",
        "\n",
        "  d = -1\n",
        "  p_d = -1\n",
        "\n",
        "  for i in range(n):\n",
        "    p_i = np.sum(variance_contributions[:i]) / np.sum(variance_contributions) # fraction of total variance\n",
        "    if(p_i >= alpha):\n",
        "      d = i\n",
        "      p_d = p_i\n",
        "      break\n",
        "  if d==-1 or p_d==-1:\n",
        "    print(\"fraction total variance calculation failed\")\n",
        "    return None\n",
        "\n",
        "  U_d = U[:d]\n",
        "\n",
        "\n",
        "  # 4) reduce the dimensionality of the data Z_d = U_d^T Z\n",
        "  # project dataset into reduced space f(x) = U^T * x\n",
        "\n",
        "  l.debug(f\"len(U)={len(U_d)}\")\n",
        "  l.debug(f\"len(U[0])={len(U_d[0])}\")\n",
        "  l.debug(f\"len(Z)={len(Z)}\")\n",
        "  l.debug(f\"len(Z[0])={len(Z[0])}\")\n",
        "\n",
        "  # m ... # measurements\n",
        "  # project every point: [m x n] dot [n x d] = [m x d] dataset\n",
        "  Z_d = np.dot(Z, np.transpose(U_d))\n",
        "\n",
        "  return (Z_d, p_d, d)"
      ]
    },
    {
      "cell_type": "code",
      "execution_count": null,
      "metadata": {
        "id": "sdhgPb2phpN9"
      },
      "outputs": [],
      "source": [
        "alpha=0.9\n",
        "reduced, pd, d = PCA_threshold(mat['X'], alpha)\n",
        "print(f\"target alpha= {alpha}, solution alpha= {pd}, solution dimensionality={d}\")\n",
        "\n",
        "alpha=0.95\n",
        "reduced, pd, d = PCA_threshold(mat['X'], alpha)\n",
        "print(f\"target alpha= {alpha}, solution alpha= {pd}, solution dimensionality={d}\")\n",
        "\n",
        "alpha=0.98\n",
        "reduced, pd, d = PCA_threshold(mat['X'], alpha)\n",
        "print(f\"target alpha= {alpha}, solution alpha= {pd}, solution dimensionality={d}\")\n"
      ]
    },
    {
      "cell_type": "code",
      "execution_count": null,
      "metadata": {
        "id": "zObkvlyQiAEF"
      },
      "outputs": [],
      "source": [
        "# eigen-value profile\n",
        "from matplotlib import collections as matcoll\n",
        "\n",
        "def getEigenProfile(X):\n",
        "  mu = X.mean(axis=0)\n",
        "  std_dev = X.std(axis=0)\n",
        "  Z = ( X - mu ) / std_dev\n",
        "  n = len(Z[0])\n",
        "  covariance_matrix = np.cov(Z, rowvar=False)\n",
        "  eigenvalues, eigenvectors = np.linalg.eig(covariance_matrix)\n",
        "  indices = np.arange(1, len(eigenvalues)+1)\n",
        "\n",
        "  return (indices, eigenvalues)\n",
        "\n",
        "\n",
        "indices, eigenvalues = getEigenProfile(mat['X'])\n",
        "\n",
        "\n",
        "\n",
        "# plot full\n",
        "vlines = []\n",
        "for i in range(len(indices)):\n",
        "    pair=[(indices[i],0), (indices[i], eigenvalues[i])]\n",
        "    vlines.append(pair)\n",
        "\n",
        "linecoll = matcoll.LineCollection(vlines)\n",
        "fig, ax = plt.subplots()\n",
        "ax.add_collection(linecoll)\n",
        "plt.scatter(x=indices, y=eigenvalues)\n",
        "\n",
        "plt.xlabel('Index of Eigenvalue')\n",
        "plt.ylabel('Eigenvalue')\n",
        "plt.title('2D visualization of eigenvalue profile Full')\n",
        "plt.show()\n",
        "\n",
        "# plot zoom\n",
        "i = 50\n",
        "\n",
        "linecoll = matcoll.LineCollection(vlines[:i])\n",
        "fig, ax = plt.subplots()\n",
        "ax.add_collection(linecoll)\n",
        "plt.scatter(x=indices[:i], y=eigenvalues[:i])\n",
        "\n",
        "plt.xlabel('Index of Eigenvalue')\n",
        "plt.ylabel('Eigenvalue')\n",
        "plt.title('Zoomed 2D visualization of eigenvalue profile')\n",
        "plt.show()\n"
      ]
    },
    {
      "cell_type": "code",
      "execution_count": null,
      "metadata": {
        "id": "u4WiWDdGSrE9"
      },
      "outputs": [],
      "source": [
        "import sklearn.manifold\n",
        "reduced = PCA(mat['X'],40)[0]\n",
        "X_embedded = sklearn.manifold.TSNE(n_components=2).fit_transform(reduced)\n",
        "\n",
        "fig = plt.figure(figsize=(10, 8))\n",
        "plot = fig.add_subplot()\n",
        "color_arr = ['#e6194b', '#3cb44b', '#ffe119', '#4363d8', '#f58231', '#911eb4', '#46f0f0', '#f032e6', '#bcf60c', '#fabebe', '#008080', '#e6beff', '#9a6324', '#fffac8', '#800000', '#aaffc3', '#808000', '#ffd8b1', '#000075', '#808080']\n",
        "for i in range(20):\n",
        "  plot.scatter(X_embedded[(i*71):(i*71)+71, 0], X_embedded[(i*71):(i*71)+71, 1], c=color_arr[i], marker='o', label='Data Points')\n",
        "plot.set_xlabel('X')\n",
        "plot.set_ylabel('Y')\n",
        "plt.show()\n"
      ]
    },
    {
      "cell_type": "code",
      "execution_count": 57,
      "metadata": {
        "id": "KUiTZD-EowNm",
        "colab": {
          "base_uri": "https://localhost:8080/",
          "height": 698
        },
        "outputId": "81eaaaca-36b6-4a5e-a441-cad966e40898"
      },
      "outputs": [
        {
          "output_type": "display_data",
          "data": {
            "text/plain": [
              "<Figure size 1000x800 with 1 Axes>"
            ],
            "image/png": "[encoded data removed]"
          },
          "metadata": {}
        }
      ],
      "source": [
        "# find one cluster by manully increasing the index\n",
        "fig = plt.figure(figsize=(10, 8))\n",
        "plot = fig.add_subplot()\n",
        "color_arr = ['#e6194b', '#3cb44b', '#ffe119', '#4363d8', '#f58231', '#911eb4', '#46f0f0', '#f032e6', '#bcf60c', '#fabebe', '#008080', '#e6beff', '#9a6324', '#fffac8', '#800000', '#aaffc3', '#808000', '#ffd8b1', '#000075', '#808080']\n",
        "for i in [3]:\n",
        "  plot.scatter(X_embedded[(i*71):(i*71)+71, 0], X_embedded[(i*71):(i*71)+71, 1], c=color_arr[i], marker='o', label='Data Points')\n",
        "plot.set_xlabel('X')\n",
        "plot.set_ylabel('Y')\n",
        "plt.show()"
      ]
    },
    {
      "cell_type": "code",
      "execution_count": 62,
      "metadata": {
        "id": "p9mS-lzkowXh",
        "colab": {
          "base_uri": "https://localhost:8080/",
          "height": 389
        },
        "outputId": "1bc9dec6-7dea-4fba-beb8-e2278239cbb6"
      },
      "outputs": [
        {
          "output_type": "display_data",
          "data": {
            "text/plain": [
              "<Figure size 1000x500 with 2 Axes>"
            ],
            "image/png": "[encoded data removed]"
          },
          "metadata": {}
        }
      ],
      "source": [
        "objectIndex = 3\n",
        "\n",
        "cluster_centers = [[-10,33], [40,0]]\n",
        "\n",
        "plt.figure(figsize=(10, 5))\n",
        "# display original images at cluster_centers of object side by side\n",
        "for i, center in enumerate(cluster_centers):\n",
        "    plt.subplot(1, len(cluster_centers), i + 1)\n",
        "    plt.imshow(mat['X'][np.argmin(np.linalg.norm(X_embedded - center, axis=1)[objectIndex*71 : objectIndex*71+71])].reshape(32,32), cmap='gray')\n",
        "    plt.axis('off')\n",
        "\n",
        "plt.show()"
      ]
    },
    {
      "cell_type": "code",
      "source": [],
      "metadata": {
        "id": "w1Q5Sw461dMl"
      },
      "execution_count": null,
      "outputs": []
    }
  ],
  "metadata": {
    "colab": {
      "provenance": []
    },
    "kernelspec": {
      "display_name": "Python 3",
      "name": "python3"
    },
    "language_info": {
      "name": "python"
    }
  },
  "nbformat": 4,
  "nbformat_minor": 0
}